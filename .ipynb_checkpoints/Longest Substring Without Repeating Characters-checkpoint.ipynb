{
 "cells": [
  {
   "cell_type": "code",
   "execution_count": 1,
   "id": "8b1d119a",
   "metadata": {},
   "outputs": [],
   "source": [
    "class Solution:\n",
    "    def lengthOfLongestSubstring(self, s: str) -> int:\n",
    "        curr = []\n",
    "        streak = 0\n",
    "        longest = 0\n",
    "\n",
    "        for c in s:\n",
    "            if c not in curr:\n",
    "                curr.append(c)\n",
    "                streak += 1\n",
    "            else:\n",
    "                if longest < streak:\n",
    "                    longest = streak\n",
    "                curr = curr[curr.index(c)+1:] + [c]\n",
    "                streak = len(curr)\n",
    "\n",
    "\n",
    "        return max(streak, longest)"
   ]
  },
  {
   "cell_type": "code",
   "execution_count": null,
   "id": "db84119a",
   "metadata": {},
   "outputs": [],
   "source": []
  }
 ],
 "metadata": {
  "kernelspec": {
   "display_name": "Python 3 (ipykernel)",
   "language": "python",
   "name": "python3"
  },
  "language_info": {
   "codemirror_mode": {
    "name": "ipython",
    "version": 3
   },
   "file_extension": ".py",
   "mimetype": "text/x-python",
   "name": "python",
   "nbconvert_exporter": "python",
   "pygments_lexer": "ipython3",
   "version": "3.9.13"
  }
 },
 "nbformat": 4,
 "nbformat_minor": 5
}
