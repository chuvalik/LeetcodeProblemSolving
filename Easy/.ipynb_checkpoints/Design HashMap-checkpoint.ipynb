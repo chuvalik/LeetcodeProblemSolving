{
 "cells": [
  {
   "cell_type": "code",
   "execution_count": 1,
   "id": "593cbfef",
   "metadata": {},
   "outputs": [],
   "source": [
    "class ListNode:\n",
    "    def __init__(self, key=-1, val=-1, next=None):\n",
    "        self.key = key\n",
    "        self.val = val\n",
    "        self.next = next\n",
    "\n",
    "class MyHashMap:\n",
    "\n",
    "    def __init__(self):\n",
    "        self.array = [ListNode() for _ in range(1000)]\n",
    "        \n",
    "    def hash(self, key):\n",
    "        return key % len(self.array)    \n",
    "\n",
    "    def put(self, key: int, value: int) -> None:\n",
    "        node = self.array[self.hash(key)]\n",
    "        while node.next:\n",
    "            if node.next.key == key:\n",
    "                node.next.val = value\n",
    "                return\n",
    "            node = node.next\n",
    "\n",
    "        node.next = ListNode(key, value)\n",
    "        \n",
    "\n",
    "    def get(self, key: int) -> int:\n",
    "        node = self.array[self.hash(key)].next\n",
    "        while node:\n",
    "            if node.key == key:\n",
    "                return node.val\n",
    "            \n",
    "            node = node.next\n",
    "        \n",
    "        return -1\n",
    "\n",
    "    def remove(self, key: int) -> None:\n",
    "        node = self.array[self.hash(key)]\n",
    "        while node and node.next:\n",
    "            if node.next.key == key:\n",
    "                node.next = node.next.next\n",
    "                return\n",
    "\n",
    "            node = node.next\n",
    "\n",
    "\n",
    "# Your MyHashMap object will be instantiated and called as such:\n",
    "# obj = MyHashMap()\n",
    "# obj.put(key,value)\n",
    "# param_2 = obj.get(key)\n",
    "# obj.remove(key)"
   ]
  },
  {
   "cell_type": "code",
   "execution_count": null,
   "id": "65f45b2c",
   "metadata": {},
   "outputs": [],
   "source": []
  }
 ],
 "metadata": {
  "kernelspec": {
   "display_name": "Python 3 (ipykernel)",
   "language": "python",
   "name": "python3"
  },
  "language_info": {
   "codemirror_mode": {
    "name": "ipython",
    "version": 3
   },
   "file_extension": ".py",
   "mimetype": "text/x-python",
   "name": "python",
   "nbconvert_exporter": "python",
   "pygments_lexer": "ipython3",
   "version": "3.9.13"
  }
 },
 "nbformat": 4,
 "nbformat_minor": 5
}
