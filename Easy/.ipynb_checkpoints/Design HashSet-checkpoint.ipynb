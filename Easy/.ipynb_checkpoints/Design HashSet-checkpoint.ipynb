{
 "cells": [
  {
   "cell_type": "code",
   "execution_count": 1,
   "id": "a95bebcd",
   "metadata": {},
   "outputs": [],
   "source": [
    "class ListNode:\n",
    "    def __init__(self, key=-1, val=False, next=None):\n",
    "        self.key = key\n",
    "        self.val = val\n",
    "        self.next = next\n",
    "\n",
    "\n",
    "class MyHashSet:\n",
    "\n",
    "    def __init__(self):\n",
    "        self.array = [ListNode() for _ in range(1000)]\n",
    "        \n",
    "    def hash(self, key):\n",
    "        return key % len(self.array)\n",
    "\n",
    "    def add(self, key: int) -> None:\n",
    "        curr = self.array[self.hash(key)]\n",
    "        while curr.next:\n",
    "            if curr.next.key == key: return\n",
    "\n",
    "            curr = curr.next\n",
    "\n",
    "        curr.next = ListNode(key, True)\n",
    "\n",
    "    def remove(self, key: int) -> None:\n",
    "        curr = self.array[self.hash(key)]\n",
    "        while curr and curr.next:\n",
    "            if curr.next.key == key:\n",
    "                curr.next = curr.next.next\n",
    "\n",
    "            curr = curr.next\n",
    "\n",
    "    def contains(self, key: int) -> bool:\n",
    "        curr = self.array[self.hash(key)]\n",
    "        while curr:\n",
    "            if curr.key == key: return True\n",
    "\n",
    "            curr = curr.next\n",
    "\n",
    "        return False\n",
    "        \n",
    "\n",
    "\n",
    "# Your MyHashSet object will be instantiated and called as such:\n",
    "# obj = MyHashSet()\n",
    "# obj.add(key)\n",
    "# obj.remove(key)\n",
    "# param_3 = obj.contains(key)"
   ]
  },
  {
   "cell_type": "code",
   "execution_count": null,
   "id": "1baf92ec",
   "metadata": {},
   "outputs": [],
   "source": []
  }
 ],
 "metadata": {
  "kernelspec": {
   "display_name": "Python 3 (ipykernel)",
   "language": "python",
   "name": "python3"
  },
  "language_info": {
   "codemirror_mode": {
    "name": "ipython",
    "version": 3
   },
   "file_extension": ".py",
   "mimetype": "text/x-python",
   "name": "python",
   "nbconvert_exporter": "python",
   "pygments_lexer": "ipython3",
   "version": "3.9.13"
  }
 },
 "nbformat": 4,
 "nbformat_minor": 5
}
