{
 "cells": [
  {
   "cell_type": "code",
   "execution_count": null,
   "id": "c774ad3a",
   "metadata": {},
   "outputs": [],
   "source": [
    "class Solution:\n",
    "    def islandPerimeter(self, grid: List[List[int]]) -> int:\n",
    "        \n",
    "        def dfs(i, j, grid, visited):\n",
    "            valid_i = i >= 0 and i < len(grid)\n",
    "            valid_j = j >= 0 and j < len(grid[0])\n",
    "\n",
    "            if not valid_i or not valid_j:\n",
    "                return 0\n",
    "\n",
    "\n",
    "            key = f\"{i},{j}\"\n",
    "\n",
    "            if grid[i][j] == 1 and key in visited:\n",
    "                return -1\n",
    "\n",
    "            if key in visited:\n",
    "                return 0\n",
    "            visited.add(key)\n",
    "\n",
    "            if grid[i][j] == 0:\n",
    "                return 0\n",
    "\n",
    "            left = dfs(i - 1, j, grid, visited)\n",
    "            right = dfs(i + 1, j, grid, visited)\n",
    "            top = dfs(i, j - 1, grid, visited)\n",
    "            bottom = dfs(i, j + 1, grid, visited)\n",
    "\n",
    "            left = left + 1 if left != -1 else 0\n",
    "            right = right + 1 if right != -1 else 0\n",
    "            top = top + 1 if top != -1 else 0\n",
    "            bottom = bottom + 1 if bottom != -1 else 0\n",
    "\n",
    "            return left + right + top + bottom\n",
    "\n",
    "\n",
    "        res = 0\n",
    "        visited = set()\n",
    "        for i in range(len(grid)):\n",
    "            for j in range(len(grid[0])):\n",
    "                res += dfs(i, j, grid, visited)\n",
    "\n",
    "        return res"
   ]
  }
 ],
 "metadata": {
  "kernelspec": {
   "display_name": "Python 3 (ipykernel)",
   "language": "python",
   "name": "python3"
  },
  "language_info": {
   "codemirror_mode": {
    "name": "ipython",
    "version": 3
   },
   "file_extension": ".py",
   "mimetype": "text/x-python",
   "name": "python",
   "nbconvert_exporter": "python",
   "pygments_lexer": "ipython3",
   "version": "3.9.13"
  }
 },
 "nbformat": 4,
 "nbformat_minor": 5
}
