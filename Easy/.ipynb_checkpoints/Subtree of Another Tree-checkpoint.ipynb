{
 "cells": [
  {
   "cell_type": "code",
   "execution_count": null,
   "id": "8fe319d9",
   "metadata": {},
   "outputs": [],
   "source": [
    "class Solution:\n",
    "    def isSubtree(self, root: Optional[TreeNode], subRoot: Optional[TreeNode]) -> bool:\n",
    "        stack = [root]\n",
    "\n",
    "        while len(stack):\n",
    "            curr = stack.pop()\n",
    "\n",
    "            if curr.val == subRoot.val:\n",
    "                res = self.dfs(curr, subRoot)\n",
    "                if res: return True\n",
    "\n",
    "            if curr.left: stack.append(curr.left)\n",
    "            if curr.right: stack.append(curr.right)\n",
    "\n",
    "        return False\n",
    "\n",
    "\n",
    "    \n",
    "    def dfs(self, root, subRoot):\n",
    "        if root == None and subRoot == None: return True\n",
    "\n",
    "        if root == None or subRoot == None:\n",
    "            return False\n",
    "        \n",
    "        return root.val == subRoot.val and self.dfs(root.left, subRoot.left) and self.dfs(root.right, subRoot.right)"
   ]
  }
 ],
 "metadata": {
  "kernelspec": {
   "display_name": "Python 3 (ipykernel)",
   "language": "python",
   "name": "python3"
  },
  "language_info": {
   "codemirror_mode": {
    "name": "ipython",
    "version": 3
   },
   "file_extension": ".py",
   "mimetype": "text/x-python",
   "name": "python",
   "nbconvert_exporter": "python",
   "pygments_lexer": "ipython3",
   "version": "3.9.13"
  }
 },
 "nbformat": 4,
 "nbformat_minor": 5
}
