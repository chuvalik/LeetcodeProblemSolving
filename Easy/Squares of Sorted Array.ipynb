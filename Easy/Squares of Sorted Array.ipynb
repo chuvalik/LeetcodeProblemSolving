{
 "cells": [
  {
   "cell_type": "code",
   "execution_count": null,
   "id": "7302cfb3",
   "metadata": {},
   "outputs": [],
   "source": [
    "class Solution:\n",
    "    def sortedSquares(self, nums: List[int]) -> List[int]:\n",
    "        res = []\n",
    "\n",
    "        l, r = 0, len(nums) - 1\n",
    "\n",
    "        while l <= r:\n",
    "            if nums[l]**2 > nums[r]**2:\n",
    "                res.append(nums[l]**2)\n",
    "                l += 1\n",
    "            else:\n",
    "                res.append(nums[r]**2)\n",
    "                r += 1\n",
    "\n",
    "        return res[::-1]"
   ]
  }
 ],
 "metadata": {
  "kernelspec": {
   "display_name": "Python 3 (ipykernel)",
   "language": "python",
   "name": "python3"
  },
  "language_info": {
   "codemirror_mode": {
    "name": "ipython",
    "version": 3
   },
   "file_extension": ".py",
   "mimetype": "text/x-python",
   "name": "python",
   "nbconvert_exporter": "python",
   "pygments_lexer": "ipython3",
   "version": "3.9.13"
  }
 },
 "nbformat": 4,
 "nbformat_minor": 5
}
