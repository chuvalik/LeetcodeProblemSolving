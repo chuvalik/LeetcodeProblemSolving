{
 "cells": [
  {
   "cell_type": "code",
   "execution_count": null,
   "id": "53727260",
   "metadata": {},
   "outputs": [],
   "source": [
    "class Solution:\n",
    "    def findDuplicates(self, nums: List[int]) -> List[int]:\n",
    "        res = []\n",
    "\n",
    "        for num in nums:\n",
    "            index = abs(num) - 1\n",
    "            if nums[index] < 0: res.append(abs(num))\n",
    "            else: nums[index] = -nums[index]\n",
    "\n",
    "        return res\n"
   ]
  }
 ],
 "metadata": {
  "kernelspec": {
   "display_name": "Python 3 (ipykernel)",
   "language": "python",
   "name": "python3"
  },
  "language_info": {
   "codemirror_mode": {
    "name": "ipython",
    "version": 3
   },
   "file_extension": ".py",
   "mimetype": "text/x-python",
   "name": "python",
   "nbconvert_exporter": "python",
   "pygments_lexer": "ipython3",
   "version": "3.9.13"
  }
 },
 "nbformat": 4,
 "nbformat_minor": 5
}
