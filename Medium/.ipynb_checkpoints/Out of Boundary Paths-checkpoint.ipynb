{
 "cells": [
  {
   "cell_type": "code",
   "execution_count": 2,
   "id": "df89b700",
   "metadata": {},
   "outputs": [],
   "source": [
    "class Solution:\n",
    "    def findPaths(self, m: int, n: int, maxMove: int, startRow: int, startColumn: int) -> int:\n",
    "\n",
    "        def dfs(m, n, maxMove, startRow, startColumn, d):\n",
    "            if maxMove < 0: return 0\n",
    "\n",
    "            key = f\"{startRow},{startColumn},{maxMove}\"\n",
    "            if key in d: return d[key]\n",
    "\n",
    "            if (startRow < 0 or startRow == m) or (startColumn < 0 or startColumn == n): return 1\n",
    "\n",
    "            left = dfs(m, n, maxMove - 1, startRow, startColumn - 1, d)\n",
    "            right = dfs(m, n, maxMove - 1, startRow, startColumn + 1, d)\n",
    "            top = dfs(m, n, maxMove - 1, startRow - 1, startColumn, d)\n",
    "            bottom = dfs(m, n, maxMove - 1, startRow + 1, startColumn, d)\n",
    "\n",
    "            d[key] = left + right + top + bottom\n",
    "\n",
    "            return d[key]\n",
    "\n",
    "        d = {}\n",
    "        return dfs(m, n, maxMove, startRow, startColumn, d) % (10**9+7)"
   ]
  }
 ],
 "metadata": {
  "kernelspec": {
   "display_name": "Python 3 (ipykernel)",
   "language": "python",
   "name": "python3"
  },
  "language_info": {
   "codemirror_mode": {
    "name": "ipython",
    "version": 3
   },
   "file_extension": ".py",
   "mimetype": "text/x-python",
   "name": "python",
   "nbconvert_exporter": "python",
   "pygments_lexer": "ipython3",
   "version": "3.9.13"
  }
 },
 "nbformat": 4,
 "nbformat_minor": 5
}
