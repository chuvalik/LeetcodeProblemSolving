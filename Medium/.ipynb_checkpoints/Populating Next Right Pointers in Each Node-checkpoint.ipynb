{
 "cells": [
  {
   "cell_type": "code",
   "execution_count": null,
   "id": "3607211e",
   "metadata": {},
   "outputs": [],
   "source": [
    "class Solution:\n",
    "    def connect(self, root: 'Optional[Node]') -> 'Optional[Node]':\n",
    "        if not root: return None\n",
    "\n",
    "        queue = [root]\n",
    "\n",
    "        while queue:\n",
    "            curr_len = len(queue)\n",
    "\n",
    "            temp = []\n",
    "            for _ in range(curr_len):\n",
    "                curr = queue.pop(0)\n",
    "\n",
    "                if curr.right: queue.append(curr.right)\n",
    "                if curr.left: queue.append(curr.left)\n",
    "\n",
    "                temp.append(curr)\n",
    "\n",
    "            prev = temp.pop(-1)\n",
    "            while temp:\n",
    "                curr = temp.pop()\n",
    "                prev.next = curr\n",
    "                prev = curr\n",
    "\n",
    "        return root\n"
   ]
  }
 ],
 "metadata": {
  "kernelspec": {
   "display_name": "Python 3 (ipykernel)",
   "language": "python",
   "name": "python3"
  },
  "language_info": {
   "codemirror_mode": {
    "name": "ipython",
    "version": 3
   },
   "file_extension": ".py",
   "mimetype": "text/x-python",
   "name": "python",
   "nbconvert_exporter": "python",
   "pygments_lexer": "ipython3",
   "version": "3.9.13"
  }
 },
 "nbformat": 4,
 "nbformat_minor": 5
}
