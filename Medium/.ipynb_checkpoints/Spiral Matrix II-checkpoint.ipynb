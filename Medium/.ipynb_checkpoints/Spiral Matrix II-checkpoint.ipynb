{
 "cells": [
  {
   "cell_type": "code",
   "execution_count": null,
   "id": "ab6f14df",
   "metadata": {},
   "outputs": [],
   "source": [
    "class Solution:\n",
    "    def generateMatrix(self, n: int) -> List[List[int]]:\n",
    "        res = [[0] * n for _ in range(n)]\n",
    "\n",
    "        left, right = 0, n\n",
    "        top, bottom = 0, n\n",
    "\n",
    "        k = 1\n",
    "        while left < right and top < bottom:\n",
    "            for i in range(left, right):\n",
    "                res[top][i] = k\n",
    "                k += 1\n",
    "            top += 1\n",
    "\n",
    "            for i in range(top, bottom):\n",
    "                res[i][right - 1] = k\n",
    "                k += 1\n",
    "            right -= 1\n",
    "\n",
    "            for i in range(right - 1, left - 1, -1):\n",
    "                res[bottom - 1][i] = k\n",
    "                k += 1\n",
    "            bottom -= 1\n",
    "\n",
    "            for i in range(bottom - 1, top - 1, -1):\n",
    "                res[i][left] = k\n",
    "                k += 1\n",
    "            left += 1\n",
    "\n",
    "        return res"
   ]
  }
 ],
 "metadata": {
  "kernelspec": {
   "display_name": "Python 3 (ipykernel)",
   "language": "python",
   "name": "python3"
  },
  "language_info": {
   "codemirror_mode": {
    "name": "ipython",
    "version": 3
   },
   "file_extension": ".py",
   "mimetype": "text/x-python",
   "name": "python",
   "nbconvert_exporter": "python",
   "pygments_lexer": "ipython3",
   "version": "3.9.13"
  }
 },
 "nbformat": 4,
 "nbformat_minor": 5
}
