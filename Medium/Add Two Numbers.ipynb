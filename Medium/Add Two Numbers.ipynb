{
 "cells": [
  {
   "cell_type": "code",
   "execution_count": 2,
   "id": "9a7dc936",
   "metadata": {},
   "outputs": [],
   "source": [
    "from typing import Optional\n",
    "class ListNode:\n",
    "    def __init__(self, val=0, next=None):\n",
    "        self.val = val\n",
    "        self.next = next\n",
    "        \n",
    "        \n",
    "class Solution:\n",
    "    def addTwoNumbers(self, l1: Optional[ListNode], l2: Optional[ListNode]) -> Optional[ListNode]:\n",
    "        sum_first = \"\"\n",
    "        while l1 != None:\n",
    "            sum_first += str(l1.val)\n",
    "            l1 = l1.next\n",
    "\n",
    "        sum_second = \"\"\n",
    "        while l2 != None:\n",
    "            sum_second += str(l2.val)\n",
    "            l2 = l2.next\n",
    "\n",
    "        two_sum = str(int(sum_first[::-1]) + int(sum_second[::-1]))[::-1]\n",
    "\n",
    "        result = ListNode()\n",
    "        curr = result\n",
    "        for i in range(len(two_sum)):\n",
    "            curr.val = int(two_sum[i])\n",
    "            if i + 1 != len(two_sum):\n",
    "                curr.next = ListNode()\n",
    "                curr = curr.next\n",
    "\n",
    "        return result"
   ]
  },
  {
   "cell_type": "code",
   "execution_count": null,
   "id": "29408100",
   "metadata": {},
   "outputs": [],
   "source": []
  }
 ],
 "metadata": {
  "kernelspec": {
   "display_name": "Python 3 (ipykernel)",
   "language": "python",
   "name": "python3"
  },
  "language_info": {
   "codemirror_mode": {
    "name": "ipython",
    "version": 3
   },
   "file_extension": ".py",
   "mimetype": "text/x-python",
   "name": "python",
   "nbconvert_exporter": "python",
   "pygments_lexer": "ipython3",
   "version": "3.9.13"
  }
 },
 "nbformat": 4,
 "nbformat_minor": 5
}
