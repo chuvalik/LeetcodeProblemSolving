{
 "cells": [
  {
   "cell_type": "code",
   "execution_count": null,
   "id": "46f8fe28",
   "metadata": {},
   "outputs": [],
   "source": [
    "class Solution:\n",
    "    def levelOrderBottom(self, root: Optional[TreeNode]) -> List[List[int]]:\n",
    "        if not root: return []\n",
    "\n",
    "        queue = [root]\n",
    "\n",
    "        res = []\n",
    "        while queue:\n",
    "            curr_len = len(queue)\n",
    "            tmp = []\n",
    "            for _ in range(curr_len):\n",
    "                curr = queue.pop(0)\n",
    "\n",
    "                tmp.append(curr.val)\n",
    "\n",
    "                if curr.left: queue.append(curr.left)\n",
    "                if curr.right: queue.append(curr.right)\n",
    "\n",
    "            res.append(tmp)\n",
    "\n",
    "        return res[::-1]"
   ]
  }
 ],
 "metadata": {
  "kernelspec": {
   "display_name": "Python 3 (ipykernel)",
   "language": "python",
   "name": "python3"
  },
  "language_info": {
   "codemirror_mode": {
    "name": "ipython",
    "version": 3
   },
   "file_extension": ".py",
   "mimetype": "text/x-python",
   "name": "python",
   "nbconvert_exporter": "python",
   "pygments_lexer": "ipython3",
   "version": "3.9.13"
  }
 },
 "nbformat": 4,
 "nbformat_minor": 5
}
