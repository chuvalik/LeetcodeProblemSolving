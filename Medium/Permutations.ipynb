{
 "cells": [
  {
   "cell_type": "code",
   "execution_count": null,
   "id": "31936049",
   "metadata": {},
   "outputs": [],
   "source": [
    "class Solution:\n",
    "    def permute(self, nums: List[int]) -> List[List[int]]:\n",
    "        if len(nums) == 0: return [[]]\n",
    "\n",
    "        res = []\n",
    "        for i in range(len(nums)):\n",
    "            locked_item = nums[i]\n",
    "\n",
    "            perms = nums[:i] + nums[i+1:]\n",
    "            perms_result = self.permute(perms)\n",
    "            mapped_perms_result = list(map(lambda perms: [locked_item] + perms, perms_result))\n",
    "            \n",
    "            res.extend(mapped_perms_result)\n",
    "\n",
    "        return res"
   ]
  }
 ],
 "metadata": {
  "kernelspec": {
   "display_name": "Python 3 (ipykernel)",
   "language": "python",
   "name": "python3"
  },
  "language_info": {
   "codemirror_mode": {
    "name": "ipython",
    "version": 3
   },
   "file_extension": ".py",
   "mimetype": "text/x-python",
   "name": "python",
   "nbconvert_exporter": "python",
   "pygments_lexer": "ipython3",
   "version": "3.9.13"
  }
 },
 "nbformat": 4,
 "nbformat_minor": 5
}
