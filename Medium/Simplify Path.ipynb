{
 "cells": [
  {
   "cell_type": "code",
   "execution_count": null,
   "id": "86c912f2",
   "metadata": {},
   "outputs": [],
   "source": [
    "class Solution:\n",
    "    def simplifyPath(self, path: str) -> str:\n",
    "\n",
    "        stack = []\n",
    "        path = path + '/'\n",
    "\n",
    "        start_index = -1\n",
    "        for i, c in enumerate(path):\n",
    "            if c != '/' and start_index == -1:\n",
    "                start_index = i\n",
    "            elif c == '/' and start_index != -1:\n",
    "                stack.append(path[start_index:i])\n",
    "                start_index = -1\n",
    "\n",
    "        \n",
    "        res_stack = []\n",
    "        for c in stack:\n",
    "            res_stack.append(c)\n",
    "            if c == '.':\n",
    "                res_stack.pop()\n",
    "            elif c == \"..\":\n",
    "                res_stack.pop()\n",
    "                if len(res_stack) > 0:\n",
    "                    res_stack.pop()\n",
    "\n",
    "\n",
    "\n",
    "        # return '/' + stack as string with join '/'\n",
    "        return \"/\" + \"/\".join(res_stack)"
   ]
  }
 ],
 "metadata": {
  "kernelspec": {
   "display_name": "Python 3 (ipykernel)",
   "language": "python",
   "name": "python3"
  },
  "language_info": {
   "codemirror_mode": {
    "name": "ipython",
    "version": 3
   },
   "file_extension": ".py",
   "mimetype": "text/x-python",
   "name": "python",
   "nbconvert_exporter": "python",
   "pygments_lexer": "ipython3",
   "version": "3.9.13"
  }
 },
 "nbformat": 4,
 "nbformat_minor": 5
}
