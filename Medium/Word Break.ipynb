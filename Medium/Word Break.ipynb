{
 "cells": [
  {
   "cell_type": "code",
   "execution_count": null,
   "id": "09b283cf",
   "metadata": {},
   "outputs": [],
   "source": [
    "class Solution:\n",
    "    def wordBreak(self, s: str, wordDict: List[str]) -> bool:\n",
    "\n",
    "        d = {}\n",
    "        def dfs(s, wordDict, d):\n",
    "            if s in d: return d[s]\n",
    "\n",
    "            if s == \"\": return True\n",
    "\n",
    "            for c in wordDict:\n",
    "                if s.startswith(c):\n",
    "                    suffix = s[len(c):]\n",
    "                    if dfs(suffix, wordDict, d):\n",
    "                        d[s] = True\n",
    "                        return True\n",
    "\n",
    "            d[s] = False\n",
    "            return False\n",
    "        \n",
    "        return dfs(s, wordDict, d)"
   ]
  }
 ],
 "metadata": {
  "kernelspec": {
   "display_name": "Python 3 (ipykernel)",
   "language": "python",
   "name": "python3"
  },
  "language_info": {
   "codemirror_mode": {
    "name": "ipython",
    "version": 3
   },
   "file_extension": ".py",
   "mimetype": "text/x-python",
   "name": "python",
   "nbconvert_exporter": "python",
   "pygments_lexer": "ipython3",
   "version": "3.9.13"
  }
 },
 "nbformat": 4,
 "nbformat_minor": 5
}
