{
 "cells": [
  {
   "cell_type": "code",
   "execution_count": null,
   "id": "922d0bb6",
   "metadata": {},
   "outputs": [],
   "source": [
    "class Solution {\n",
    "    public boolean exist(char[][] board, String word) {\n",
    "        HashSet<String> set = new HashSet<String>();\n",
    "\n",
    "        int ROWS = board.length;\n",
    "        int COLS = board[0].length;\n",
    "\n",
    "        for (int i = 0; i < ROWS; i++) {\n",
    "            for (int j = 0; j < COLS; j++) {\n",
    "                if (dfs(set, board, word, i, j, 0)) return true;\n",
    "            }\n",
    "        }\n",
    "\n",
    "        return false;\n",
    "    }\n",
    "\n",
    "    public boolean dfs(HashSet<String> set, char[][] board, String word, int i, int j, int curr_len) {\n",
    "        if (curr_len == word.length()) return true;\n",
    "\n",
    "        if (i < 0 || i >= board.length || j < 0 || j >= board[0].length) return false;\n",
    "\n",
    "        if (word.charAt(curr_len) != board[i][j]) return false;\n",
    "\n",
    "        String visited = i + \",\" + j;\n",
    "        if (set.contains(visited)) return false;\n",
    "\n",
    "        set.add(visited);\n",
    "\n",
    "        boolean left = dfs(set, board, word, i, j - 1, curr_len + 1);\n",
    "        boolean right = dfs(set, board, word, i, j + 1, curr_len + 1);\n",
    "        boolean top = dfs(set, board, word, i + 1, j, curr_len + 1);\n",
    "        boolean bottom = dfs(set, board, word, i - 1, j, curr_len + 1);\n",
    "\n",
    "        set.remove(visited);\n",
    "\n",
    "        return left || right || top || bottom;\n",
    "    }\n",
    "}"
   ]
  }
 ],
 "metadata": {
  "kernelspec": {
   "display_name": "Python 3 (ipykernel)",
   "language": "python",
   "name": "python3"
  },
  "language_info": {
   "codemirror_mode": {
    "name": "ipython",
    "version": 3
   },
   "file_extension": ".py",
   "mimetype": "text/x-python",
   "name": "python",
   "nbconvert_exporter": "python",
   "pygments_lexer": "ipython3",
   "version": "3.9.13"
  }
 },
 "nbformat": 4,
 "nbformat_minor": 5
}
