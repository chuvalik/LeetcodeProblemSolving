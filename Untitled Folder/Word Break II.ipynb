{
 "cells": [
  {
   "cell_type": "code",
   "execution_count": null,
   "id": "74e50f02",
   "metadata": {},
   "outputs": [],
   "source": [
    "class Solution:\n",
    "    def wordBreak(self, s: str, wordDict: List[str]) -> List[str]:\n",
    "\n",
    "        d = {}\n",
    "\n",
    "        def dfs(s, wordDict, d):\n",
    "            if s in d: return d[s]\n",
    "\n",
    "            if s == \"\": return [[]]\n",
    "\n",
    "            res = []\n",
    "            for word in wordDict:\n",
    "                if s.startswith(word):\n",
    "                    suffix = s[len(word):]\n",
    "                    dfs_res = dfs(suffix, wordDict, d)\n",
    "                    res_arrays = list(map(lambda x: [word, *x], dfs_res))\n",
    "                    for res_array in res_arrays:\n",
    "                        res.append(res_array)\n",
    "\n",
    "            d[s] = res\n",
    "            return res\n",
    "\n",
    "        return [\" \".join(s) for s in dfs(s, wordDict, d)]"
   ]
  }
 ],
 "metadata": {
  "kernelspec": {
   "display_name": "Python 3 (ipykernel)",
   "language": "python",
   "name": "python3"
  },
  "language_info": {
   "codemirror_mode": {
    "name": "ipython",
    "version": 3
   },
   "file_extension": ".py",
   "mimetype": "text/x-python",
   "name": "python",
   "nbconvert_exporter": "python",
   "pygments_lexer": "ipython3",
   "version": "3.9.13"
  }
 },
 "nbformat": 4,
 "nbformat_minor": 5
}
